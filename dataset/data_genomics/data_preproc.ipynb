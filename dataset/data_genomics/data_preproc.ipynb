{
 "cells": [
  {
   "cell_type": "markdown",
   "source": [
    "Creating SMILES mapping\n",
    "- https://pubchem.ncbi.nlm.nih.gov/"
   ],
   "metadata": {}
  },
  {
   "cell_type": "code",
   "execution_count": 2,
   "source": [
    "nuc2smiles=dict(zip(\n",
    "    ['A','T','G','C'],\n",
    "    \n",
    "    [\"C1=NC2=NC=NC(=C2N1)N\",\n",
    "    \"CC1=CNC(=O)NC1=O\",\n",
    "    \"C1=NC2=C(N1)C(=O)NC(=N2)N\",\n",
    "    \"C1=C(NC(=O)N=C1)N\"]\n",
    "    ))"
   ],
   "outputs": [],
   "metadata": {}
  },
  {
   "cell_type": "code",
   "execution_count": 3,
   "source": [
    "import json\n",
    "\n",
    "with open('nuc2smiles.json', 'w') as json_file:\n",
    "    json.dump(nuc2smiles, json_file)"
   ],
   "outputs": [],
   "metadata": {}
  },
  {
   "cell_type": "code",
   "execution_count": 3,
   "source": [
    "from rdkit.Chem import AllChem as Chem\n",
    "from rdkit import DataStructs\n",
    "import numpy as np\n",
    "import json\n",
    "\n",
    "class Fingerprint_Generation:\n",
    "    def __init__(self, smiles_file, radius, nbits, newsmiles=None):\n",
    "        with open(smiles_file) as json_file:\n",
    "            smiles = json.load(json_file)\n",
    "        \n",
    "        self.lookupfps = {}\n",
    "        \n",
    "        if newsmiles != None:\n",
    "            smiles.update(newsmiles)\n",
    "        \n",
    "        for key, value in smiles.items():\n",
    "            mol = Chem.MolFromSmiles(value)\n",
    "            fp = np.array(Chem.GetMorganFingerprintAsBitVect(mol,radius,nbits))\n",
    "            self.lookupfps[key] = fp\n",
    "        self.lookupfps[' '] = np.zeros(self.lookupfps['A'].shape, dtype=int)\n",
    "        self.lookupfps['0'] = np.zeros(self.lookupfps['A'].shape, dtype=int)\n",
    "    \n",
    "    def seq(self, seq):\n",
    "        fp = np.asarray([self.lookupfps[seq[i]] for i in range(len(seq))])\n",
    "        return fp"
   ],
   "outputs": [
    {
     "output_type": "error",
     "ename": "ModuleNotFoundError",
     "evalue": "No module named 'rdkit'",
     "traceback": [
      "\u001b[0;31m---------------------------------------------------------------------------\u001b[0m",
      "\u001b[0;31mModuleNotFoundError\u001b[0m                       Traceback (most recent call last)",
      "\u001b[0;32m<ipython-input-3-1cc77c2560db>\u001b[0m in \u001b[0;36m<module>\u001b[0;34m\u001b[0m\n\u001b[0;32m----> 1\u001b[0;31m \u001b[0;32mfrom\u001b[0m \u001b[0mrdkit\u001b[0m\u001b[0;34m.\u001b[0m\u001b[0mChem\u001b[0m \u001b[0;32mimport\u001b[0m \u001b[0mAllChem\u001b[0m \u001b[0;32mas\u001b[0m \u001b[0mChem\u001b[0m\u001b[0;34m\u001b[0m\u001b[0;34m\u001b[0m\u001b[0m\n\u001b[0m\u001b[1;32m      2\u001b[0m \u001b[0;32mfrom\u001b[0m \u001b[0mrdkit\u001b[0m \u001b[0;32mimport\u001b[0m \u001b[0mDataStructs\u001b[0m\u001b[0;34m\u001b[0m\u001b[0;34m\u001b[0m\u001b[0m\n\u001b[1;32m      3\u001b[0m \u001b[0;32mimport\u001b[0m \u001b[0mnumpy\u001b[0m \u001b[0;32mas\u001b[0m \u001b[0mnp\u001b[0m\u001b[0;34m\u001b[0m\u001b[0;34m\u001b[0m\u001b[0m\n\u001b[1;32m      4\u001b[0m \u001b[0;32mimport\u001b[0m \u001b[0mjson\u001b[0m\u001b[0;34m\u001b[0m\u001b[0;34m\u001b[0m\u001b[0m\n\u001b[1;32m      5\u001b[0m \u001b[0;34m\u001b[0m\u001b[0m\n",
      "\u001b[0;31mModuleNotFoundError\u001b[0m: No module named 'rdkit'"
     ]
    }
   ],
   "metadata": {}
  },
  {
   "cell_type": "code",
   "execution_count": null,
   "source": [
    "\n",
    "smiles_path = #kwargs.get('smiles_path')\n",
    "fp_radius = 3# kwargs.get('fp_radius', 3)\n",
    "fp_bits = 2048 #kwargs.get('fp_bits', 2048)\n",
    "seq_max = 108 #kwargs.get('seq_max', 108)\n",
    "\n",
    "self.fp = fingerprint.Fingerprint_Generation(smiles_file = smiles_path, \n",
    "                                    nbits = self.__fp_bits, radius = self.__fp_bits)\n"
   ],
   "outputs": [],
   "metadata": {}
  }
 ],
 "metadata": {
  "orig_nbformat": 4,
  "language_info": {
   "name": "python",
   "version": "3.8.8",
   "mimetype": "text/x-python",
   "codemirror_mode": {
    "name": "ipython",
    "version": 3
   },
   "pygments_lexer": "ipython3",
   "nbconvert_exporter": "python",
   "file_extension": ".py"
  },
  "kernelspec": {
   "name": "python3",
   "display_name": "Python 3.8.8 64-bit ('base': conda)"
  },
  "interpreter": {
   "hash": "dca0ade3e726a953b501b15e8e990130d2b7799f14cfd9f4271676035ebe5511"
  }
 },
 "nbformat": 4,
 "nbformat_minor": 2
}