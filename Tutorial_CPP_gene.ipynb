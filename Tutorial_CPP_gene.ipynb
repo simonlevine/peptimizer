{
 "cells": [
  {
   "cell_type": "code",
   "execution_count": 5,
   "source": [
    "import os \n",
    "# os.environ['CUDA_VISIBLE_DEVICES'] = '2'\n",
    "os.environ['CUDA_VISIBLE_DEVICES'] = '0'\n",
    "\n",
    "\n",
    "from utils.utils_cpp import cpp_predictor\n",
    "# from utils.utils_cpp import cpp_generator\n",
    "# from utils.utils_cpp import cpp_optimizer\n",
    "from utils.utils_common.activator import Activation"
   ],
   "outputs": [],
   "metadata": {}
  },
  {
   "cell_type": "code",
   "execution_count": 13,
   "source": [
    "import pandas as pd\n",
    "\n",
    "data = pd.read_csv('./dataset/data_gene/gene_predictor_dataset.csv')\n",
    "data['seq'] = data['seq'].str.upper()\n",
    "data.to_csv('./dataset/data_gene/gene_predictor_dataset.csv',index=False)"
   ],
   "outputs": [],
   "metadata": {}
  },
  {
   "cell_type": "markdown",
   "source": [
    "#### Filepaths"
   ],
   "metadata": {}
  },
  {
   "cell_type": "markdown",
   "source": [
    "*_DATA_PATH : For datasets, to be used when training and sampling <br>\n",
    "*_MODEL_PATH : For models, to be used when training to save the model, otherwise to load pre-trained models <br>\n",
    "PREDICTOR_STATS_PATH : To save/load statistics for predictor training dataset <br>\n",
    "\n",
    "SEQ_MAX : Maximum sequence length for predictor <br>\n",
    "SEED_SEQ_LENGTH : Seed sequence length for generator <br>\n",
    "\n",
    "SMILES_PATH : SMILES for monomers <br>\n",
    "FP_RADIUS : Radius of topological exploration for fingerprint <br>\n",
    "FP_BITS : Size of fingerprint bit-vector"
   ],
   "metadata": {}
  },
  {
   "cell_type": "code",
   "execution_count": 14,
   "source": [
    "# GENERATOR_DATA_PATH = './dataset/data_cpp/cpp_generator_dataset.txt'\n",
    "# GENERATOR_MODEL_PATH = './model/model_cpp/cpp_generator.hdf5'\n",
    "# SEED_SEQ_LENGTH = 10\n",
    "\n",
    "PREDICTOR_DATA_PATH = './dataset/data_gene/gene_predictor_dataset.csv'\n",
    "PREDICTOR_MODEL_PATH = './model/model_gene/gene_predictor.hdf5'\n",
    "PREDICTOR_STATS_PATH = './dataset/data_gene/gene_predictor_dataset_stats.json'\n",
    "\n",
    "SMILES_PATH = './dataset/data_gene/nuc2smiles.json'\n",
    "FP_RADIUS = 3\n",
    "FP_BITS = 1024\n",
    "SEQ_MAX = 256 #108"
   ],
   "outputs": [],
   "metadata": {}
  },
  {
   "cell_type": "markdown",
   "source": [
    "Creating an instance for Generator class with the dataset. <br>\n",
    "Training and saving the generator"
   ],
   "metadata": {}
  },
  {
   "cell_type": "markdown",
   "source": [
    "#### Predictor"
   ],
   "metadata": {}
  },
  {
   "cell_type": "markdown",
   "source": [
    "Creating an instance for Predictor class with the dataset and other parameters. <br>\n",
    "Training and saving the predictor"
   ],
   "metadata": {}
  },
  {
   "cell_type": "code",
   "execution_count": 16,
   "source": [
    "predictor = cpp_predictor.Predictor(\n",
    "    data_path = PREDICTOR_DATA_PATH,\n",
    "    smiles_path = SMILES_PATH,\n",
    "    fp_radius = FP_RADIUS,\n",
    "    fp_bits = FP_BITS,\n",
    "    seq_max = SEQ_MAX\n",
    ")\n",
    "\n",
    "predictor.train_model(\n",
    "    model_params = {\n",
    "        'save_checkpoint': True,\n",
    "        'checkpoint_filepath': './model/'\n",
    "        }\n",
    ")"
   ],
   "outputs": [
    {
     "output_type": "stream",
     "name": "stdout",
     "text": [
      "Loading Data for Training of Predictor\n",
      "Featurizing Data for Predictor\n"
     ]
    }
   ],
   "metadata": {}
  },
  {
   "cell_type": "markdown",
   "source": [
    "#### Optimizer"
   ],
   "metadata": {}
  },
  {
   "cell_type": "markdown",
   "source": [
    "Creating an instance for Optimizer class with the pre-trained models and data files. <br>\n",
    "Sampling sequences using a pre-trained generator to seed the genetic algorithm. <br>\n",
    "Optimizing the seed sequences."
   ],
   "metadata": {}
  },
  {
   "cell_type": "code",
   "execution_count": null,
   "source": [
    "optimizer = cpp_optimizer.Optimizer(\n",
    "    model_path = PREDICTOR_MODEL_PATH,\n",
    "    data_path = PREDICTOR_DATA_PATH,\n",
    "    smiles_path = SMILES_PATH,\n",
    "    stats_path = PREDICTOR_STATS_PATH,\n",
    "    fp_radius = FP_RADIUS,\n",
    "    fp_bits = FP_BITS,\n",
    "    seq_max = SEQ_MAX\n",
    ")"
   ],
   "outputs": [],
   "metadata": {}
  },
  {
   "cell_type": "code",
   "execution_count": null,
   "source": [
    "generator = cpp_generator.Generator(\n",
    "    model_path = GENERATOR_MODEL_PATH,\n",
    "    data_path = GENERATOR_DATA_PATH,\n",
    "    seq_length = SEED_SEQ_LENGTH\n",
    ")"
   ],
   "outputs": [],
   "metadata": {}
  },
  {
   "cell_type": "code",
   "execution_count": null,
   "source": [
    "list_seeds = generator.generate_seed(n_seeds = 2, seed_length = 30)"
   ],
   "outputs": [],
   "metadata": {}
  },
  {
   "cell_type": "code",
   "execution_count": null,
   "source": [
    "df = optimizer.optimize(list_seeds)\n",
    "df.head(2)"
   ],
   "outputs": [],
   "metadata": {}
  },
  {
   "cell_type": "markdown",
   "source": [
    "#### Activation Analysis"
   ],
   "metadata": {}
  },
  {
   "cell_type": "markdown",
   "source": [
    "Visualizing the gradient activation of peptide sequence (ex. penetratin) based on pre-trained predictor."
   ],
   "metadata": {}
  },
  {
   "cell_type": "code",
   "execution_count": null,
   "source": [
    "activator = Activation(\n",
    "    mode = 'cpp',\n",
    "    model_path = PREDICTOR_MODEL_PATH,\n",
    "    smiles_path = SMILES_PATH,\n",
    "    stats_path = PREDICTOR_STATS_PATH,\n",
    "    fp_radius = FP_RADIUS,\n",
    "    fp_bits = FP_BITS,\n",
    "    seq_max = SEQ_MAX\n",
    ")\n",
    "\n",
    "activator.analyze('RQIKIWFQNRRMKWKK')"
   ],
   "outputs": [],
   "metadata": {}
  },
  {
   "cell_type": "code",
   "execution_count": null,
   "source": [],
   "outputs": [],
   "metadata": {}
  }
 ],
 "metadata": {
  "kernelspec": {
   "name": "python3",
   "display_name": "Python 3.9.6 64-bit ('rdkit-env': conda)"
  },
  "language_info": {
   "codemirror_mode": {
    "name": "ipython",
    "version": 3
   },
   "file_extension": ".py",
   "mimetype": "text/x-python",
   "name": "python",
   "nbconvert_exporter": "python",
   "pygments_lexer": "ipython3",
   "version": "3.9.6"
  },
  "interpreter": {
   "hash": "db753c4707da0616008c6cb0dea172cdc7a8cbeb6d09dc2ed58be3a576fb2286"
  }
 },
 "nbformat": 4,
 "nbformat_minor": 4
}