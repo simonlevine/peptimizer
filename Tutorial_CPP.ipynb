{
 "cells": [
  {
   "cell_type": "code",
   "execution_count": 2,
   "source": [
    "import os \n",
    "os.environ['CUDA_VISIBLE_DEVICES'] = '2'\n",
    "\n",
    "from utils.utils_cpp import cpp_predictor\n",
    "from utils.utils_cpp import cpp_generator\n",
    "from utils.utils_cpp import cpp_optimizer\n",
    "from utils.utils_common.activator import Activation"
   ],
   "outputs": [],
   "metadata": {}
  },
  {
   "cell_type": "markdown",
   "source": [
    "#### Filepaths"
   ],
   "metadata": {}
  },
  {
   "cell_type": "markdown",
   "source": [
    "*_DATA_PATH : For datasets, to be used when training and sampling <br>\n",
    "*_MODEL_PATH : For models, to be used when training to save the model, otherwise to load pre-trained models <br>\n",
    "PREDICTOR_STATS_PATH : To save/load statistics for predictor training dataset <br>\n",
    "\n",
    "SEQ_MAX : Maximum sequence length for predictor <br>\n",
    "SEED_SEQ_LENGTH : Seed sequence length for generator <br>\n",
    "\n",
    "SMILES_PATH : SMILES for monomers <br>\n",
    "FP_RADIUS : Radius of topological exploration for fingerprint <br>\n",
    "FP_BITS : Size of fingerprint bit-vector"
   ],
   "metadata": {}
  },
  {
   "cell_type": "code",
   "execution_count": 7,
   "source": [
    "GENERATOR_DATA_PATH = './dataset/data_cpp/cpp_generator_dataset.txt'\n",
    "GENERATOR_MODEL_PATH = './model/model_cpp/cpp_generator.hdf5'\n",
    "SEED_SEQ_LENGTH = 10\n",
    "\n",
    "PREDICTOR_DATA_PATH = './dataset/data_cpp/cpp_predictor_dataset.csv'\n",
    "PREDICTOR_MODEL_PATH = './model/model_cpp/cpp_predictor.hdf5'\n",
    "PREDICTOR_STATS_PATH = './dataset/data_cpp/cpp_predictor_dataset_stats.json'\n",
    "\n",
    "SMILES_PATH = './dataset/data_cpp/cpp_smiles.json'\n",
    "FP_RADIUS = 3\n",
    "FP_BITS = 1024\n",
    "SEQ_MAX = 256#108"
   ],
   "outputs": [],
   "metadata": {}
  },
  {
   "cell_type": "markdown",
   "source": [
    "#### Generator"
   ],
   "metadata": {}
  },
  {
   "cell_type": "markdown",
   "source": [
    "Creating an instance for Generator class with the dataset. <br>\n",
    "Training and saving the generator"
   ],
   "metadata": {}
  },
  {
   "cell_type": "code",
   "execution_count": 3,
   "source": [
    "generator = cpp_generator.Generator(data_path = GENERATOR_DATA_PATH, seq_length = SEED_SEQ_LENGTH)\n",
    "\n",
    "generator.train_model(\n",
    "    model_params = {\n",
    "        'save_checkpoint': True,\n",
    "        'checkpoint_filepath': './model/'\n",
    "        }\n",
    ")"
   ],
   "outputs": [
    {
     "output_type": "stream",
     "name": "stdout",
     "text": [
      "Loading Data for Training of Generator\n",
      "Pre-Processing Data for Generator\n",
      "Featurizing Data for Generator\n",
      "Starting Training of Generator\n",
      "WARNING:tensorflow:From /home/somesh/anaconda3/envs/keras/lib/python3.7/site-packages/tensorflow/python/ops/resource_variable_ops.py:435: colocate_with (from tensorflow.python.framework.ops) is deprecated and will be removed in a future version.\n",
      "Instructions for updating:\n",
      "Colocations handled automatically by placer.\n",
      "WARNING:tensorflow:From /home/somesh/anaconda3/envs/keras/lib/python3.7/site-packages/tensorflow/python/keras/layers/core.py:143: calling dropout (from tensorflow.python.ops.nn_ops) with keep_prob is deprecated and will be removed in a future version.\n",
      "Instructions for updating:\n",
      "Please use `rate` instead of `keep_prob`. Rate should be set to `rate = 1 - keep_prob`.\n",
      "Train on 5987 samples, validate on 2567 samples\n",
      "WARNING:tensorflow:From /home/somesh/anaconda3/envs/keras/lib/python3.7/site-packages/tensorflow/python/ops/math_ops.py:3066: to_int32 (from tensorflow.python.ops.math_ops) is deprecated and will be removed in a future version.\n",
      "Instructions for updating:\n",
      "Use tf.cast instead.\n",
      "Epoch 1/2\n",
      "5987/5987 [==============================] - 5s 776us/sample - loss: 2.9019 - acc: 0.1527 - val_loss: 2.7053 - val_acc: 0.1944\n",
      "Epoch 2/2\n",
      "5987/5987 [==============================] - 4s 588us/sample - loss: 2.6929 - acc: 0.1884 - val_loss: 2.6680 - val_acc: 0.1944\n"
     ]
    }
   ],
   "metadata": {}
  },
  {
   "cell_type": "markdown",
   "source": [
    "#### Predictor"
   ],
   "metadata": {}
  },
  {
   "cell_type": "markdown",
   "source": [
    "Creating an instance for Predictor class with the dataset and other parameters. <br>\n",
    "Training and saving the predictor"
   ],
   "metadata": {}
  },
  {
   "cell_type": "code",
   "execution_count": 4,
   "source": [
    "predictor = cpp_predictor.Predictor(\n",
    "    data_path = PREDICTOR_DATA_PATH,\n",
    "    smiles_path = SMILES_PATH,\n",
    "    fp_radius = FP_RADIUS,\n",
    "    fp_bits = FP_BITS,\n",
    "    seq_max = SEQ_MAX\n",
    ")\n",
    "\n",
    "predictor.train_model(\n",
    "    model_params = {\n",
    "        'save_checkpoint': True,\n",
    "        'checkpoint_filepath': './model/'\n",
    "        }\n",
    ")"
   ],
   "outputs": [
    {
     "output_type": "stream",
     "name": "stdout",
     "text": [
      "Loading Data for Training of Predictor\n",
      "Featurizing Data for Predictor\n",
      "Creating Model for Predictor\n",
      "WARNING:tensorflow:From /home/somesh/anaconda3/envs/keras/lib/python3.7/site-packages/tensorflow/python/keras/utils/losses_utils.py:170: to_float (from tensorflow.python.ops.math_ops) is deprecated and will be removed in a future version.\n",
      "Instructions for updating:\n",
      "Use tf.cast instead.\n",
      "Train on 409 samples, validate on 103 samples\n",
      "Epoch 1/2\n",
      "409/409 [==============================] - 3s 6ms/sample - loss: 1.2173 - val_loss: 0.4443\n",
      "Epoch 2/2\n",
      "409/409 [==============================] - 1s 1ms/sample - loss: 0.4253 - val_loss: 0.5574\n"
     ]
    },
    {
     "output_type": "display_data",
     "data": {
      "text/plain": [
       "<Figure size 432x288 with 1 Axes>"
      ],
      "image/png": "[encoded data removed]"
     },
     "metadata": {
      "needs_background": "light"
     }
    }
   ],
   "metadata": {}
  },
  {
   "cell_type": "markdown",
   "source": [
    "#### Optimizer"
   ],
   "metadata": {}
  },
  {
   "cell_type": "markdown",
   "source": [
    "Creating an instance for Optimizer class with the pre-trained models and data files. <br>\n",
    "Sampling sequences using a pre-trained generator to seed the genetic algorithm. <br>\n",
    "Optimizing the seed sequences."
   ],
   "metadata": {}
  },
  {
   "cell_type": "code",
   "execution_count": 5,
   "source": [
    "optimizer = cpp_optimizer.Optimizer(\n",
    "    model_path = PREDICTOR_MODEL_PATH,\n",
    "    data_path = PREDICTOR_DATA_PATH,\n",
    "    smiles_path = SMILES_PATH,\n",
    "    stats_path = PREDICTOR_STATS_PATH,\n",
    "    fp_radius = FP_RADIUS,\n",
    "    fp_bits = FP_BITS,\n",
    "    seq_max = SEQ_MAX\n",
    ")"
   ],
   "outputs": [],
   "metadata": {}
  },
  {
   "cell_type": "code",
   "execution_count": 6,
   "source": [
    "generator = cpp_generator.Generator(\n",
    "    model_path = GENERATOR_MODEL_PATH,\n",
    "    data_path = GENERATOR_DATA_PATH,\n",
    "    seq_length = SEED_SEQ_LENGTH\n",
    ")"
   ],
   "outputs": [],
   "metadata": {}
  },
  {
   "cell_type": "code",
   "execution_count": 7,
   "source": [
    "list_seeds = generator.generate_seed(n_seeds = 2, seed_length = 30)"
   ],
   "outputs": [
    {
     "output_type": "stream",
     "name": "stdout",
     "text": [
      "Generating Seeds for Optimizer\n",
      "Generating Seed  1\n",
      "Generating Seed  2\n"
     ]
    }
   ],
   "metadata": {}
  },
  {
   "cell_type": "code",
   "execution_count": 8,
   "source": [
    "df = optimizer.optimize(list_seeds)\n",
    "df.head(2)"
   ],
   "outputs": [
    {
     "output_type": "stream",
     "name": "stdout",
     "text": [
      "Setting up Optimizer\n",
      "Optimizing Seed  1\n",
      "Optimizing Seed  2\n",
      "Post-Processing Optimized Sequences\n"
     ]
    },
    {
     "output_type": "execute_result",
     "data": {
      "text/plain": [
       "                                  sequences intensity length relative_Arg  \\\n",
       "73   LXXRHFPPKCHHFCLKKPPLKKNCTHTXXLGBNXGBCG   11.7136     38    0.0263158   \n",
       "79  FXXCHFPPKCHHFCLKKPPXKKNCTHTXXLGBNXGBNGK   11.4768     39            0   \n",
       "\n",
       "   relative_charge  \n",
       "73        0.237084  \n",
       "79        0.230962  "
      ],
      "text/html": [
       "<div>\n",
       "<style scoped>\n",
       "    .dataframe tbody tr th:only-of-type {\n",
       "        vertical-align: middle;\n",
       "    }\n",
       "\n",
       "    .dataframe tbody tr th {\n",
       "        vertical-align: top;\n",
       "    }\n",
       "\n",
       "    .dataframe thead th {\n",
       "        text-align: right;\n",
       "    }\n",
       "</style>\n",
       "<table border=\"1\" class=\"dataframe\">\n",
       "  <thead>\n",
       "    <tr style=\"text-align: right;\">\n",
       "      <th></th>\n",
       "      <th>sequences</th>\n",
       "      <th>intensity</th>\n",
       "      <th>length</th>\n",
       "      <th>relative_Arg</th>\n",
       "      <th>relative_charge</th>\n",
       "    </tr>\n",
       "  </thead>\n",
       "  <tbody>\n",
       "    <tr>\n",
       "      <th>73</th>\n",
       "      <td>LXXRHFPPKCHHFCLKKPPLKKNCTHTXXLGBNXGBCG</td>\n",
       "      <td>11.7136</td>\n",
       "      <td>38</td>\n",
       "      <td>0.0263158</td>\n",
       "      <td>0.237084</td>\n",
       "    </tr>\n",
       "    <tr>\n",
       "      <th>79</th>\n",
       "      <td>FXXCHFPPKCHHFCLKKPPXKKNCTHTXXLGBNXGBNGK</td>\n",
       "      <td>11.4768</td>\n",
       "      <td>39</td>\n",
       "      <td>0</td>\n",
       "      <td>0.230962</td>\n",
       "    </tr>\n",
       "  </tbody>\n",
       "</table>\n",
       "</div>"
      ]
     },
     "metadata": {},
     "execution_count": 8
    }
   ],
   "metadata": {}
  },
  {
   "cell_type": "markdown",
   "source": [
    "#### Activation Analysis"
   ],
   "metadata": {}
  },
  {
   "cell_type": "markdown",
   "source": [
    "Visualizing the gradient activation of peptide sequence (ex. penetratin) based on pre-trained predictor."
   ],
   "metadata": {}
  },
  {
   "cell_type": "code",
   "execution_count": 8,
   "source": [
    "activator = Activation(\n",
    "    mode = 'cpp',\n",
    "    model_path = PREDICTOR_MODEL_PATH,\n",
    "    smiles_path = SMILES_PATH,\n",
    "    stats_path = PREDICTOR_STATS_PATH,\n",
    "    fp_radius = FP_RADIUS,\n",
    "    fp_bits = FP_BITS,\n",
    "    seq_max = SEQ_MAX\n",
    ")\n",
    "\n",
    "activator.analyze('RQIKIWFQNRRMKWKK')"
   ],
   "outputs": [
    {
     "output_type": "stream",
     "name": "stdout",
     "text": [
      "WARNING:tensorflow:From /home/somesh/anaconda3/envs/keras/lib/python3.7/site-packages/tensorflow/python/ops/resource_variable_ops.py:435: colocate_with (from tensorflow.python.framework.ops) is deprecated and will be removed in a future version.\n",
      "Instructions for updating:\n",
      "Colocations handled automatically by placer.\n",
      "WARNING:tensorflow:From /home/somesh/anaconda3/envs/keras/lib/python3.7/site-packages/tensorflow/python/keras/layers/core.py:143: calling dropout (from tensorflow.python.ops.nn_ops) with keep_prob is deprecated and will be removed in a future version.\n",
      "Instructions for updating:\n",
      "Please use `rate` instead of `keep_prob`. Rate should be set to `rate = 1 - keep_prob`.\n",
      "WARNING:tensorflow:From /home/somesh/anaconda3/envs/keras/lib/python3.7/site-packages/tensorflow/python/keras/utils/losses_utils.py:170: to_float (from tensorflow.python.ops.math_ops) is deprecated and will be removed in a future version.\n",
      "Instructions for updating:\n",
      "Use tf.cast instead.\n",
      "WARNING:tensorflow:From /home/somesh/anaconda3/envs/keras/lib/python3.7/site-packages/tensorflow/python/ops/math_ops.py:3066: to_int32 (from tensorflow.python.ops.math_ops) is deprecated and will be removed in a future version.\n",
      "Instructions for updating:\n",
      "Use tf.cast instead.\n",
      "Positive activation for feature map\n"
     ]
    },
    {
     "output_type": "display_data",
     "data": {
      "text/plain": [
       "<Figure size 432x288 with 2 Axes>"
      ],
      "image/png": "[encoded data removed]"
     },
     "metadata": {
      "needs_background": "light"
     }
    },
    {
     "output_type": "stream",
     "name": "stdout",
     "text": [
      "Positive activation averaged over residues\n"
     ]
    },
    {
     "output_type": "display_data",
     "data": {
      "text/plain": [
       "<Figure size 432x288 with 2 Axes>"
      ],
      "image/png": "[encoded data removed]"
     },
     "metadata": {
      "needs_background": "light"
     }
    },
    {
     "output_type": "stream",
     "name": "stdout",
     "text": [
      "Positive activation averaged over fingerprints\n"
     ]
    },
    {
     "output_type": "display_data",
     "data": {
      "text/plain": [
       "<Figure size 432x288 with 2 Axes>"
      ],
      "image/png": "[encoded data removed]"
     },
     "metadata": {
      "needs_background": "light"
     }
    }
   ],
   "metadata": {}
  },
  {
   "cell_type": "code",
   "execution_count": null,
   "source": [],
   "outputs": [],
   "metadata": {}
  }
 ],
 "metadata": {
  "kernelspec": {
   "display_name": "Python [conda env:keras] *",
   "language": "python",
   "name": "conda-env-keras-py"
  },
  "language_info": {
   "codemirror_mode": {
    "name": "ipython",
    "version": 3
   },
   "file_extension": ".py",
   "mimetype": "text/x-python",
   "name": "python",
   "nbconvert_exporter": "python",
   "pygments_lexer": "ipython3",
   "version": "3.7.3"
  }
 },
 "nbformat": 4,
 "nbformat_minor": 4
}